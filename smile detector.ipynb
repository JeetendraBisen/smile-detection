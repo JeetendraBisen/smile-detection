{
 "cells": [
  {
   "cell_type": "code",
   "execution_count": 6,
   "id": "b34ec1d6",
   "metadata": {},
   "outputs": [],
   "source": [
    "import cv2"
   ]
  },
  {
   "cell_type": "code",
   "execution_count": 7,
   "id": "dfa4b147",
   "metadata": {},
   "outputs": [],
   "source": [
    "#face and smile classifier\n",
    "face_detector = cv2.CascadeClassifier('haarcascade_frontalface_default.xml')\n",
    "smile_detector = cv2.CascadeClassifier('haarcascade_smile.xml')"
   ]
  },
  {
   "cell_type": "code",
   "execution_count": 8,
   "id": "58d204d7",
   "metadata": {},
   "outputs": [],
   "source": [
    "#grabing webcam footage\n",
    "webcam = cv2.VideoCapture(0)"
   ]
  },
  {
   "cell_type": "code",
   "execution_count": 9,
   "id": "d0d2e967",
   "metadata": {},
   "outputs": [],
   "source": [
    "#show the current frame\n",
    "while True:\n",
    "    successful_frame_read, frame = webcam.read()\n",
    "    \n",
    "    #if an error abort\n",
    "    if not successful_frame_read:\n",
    "        break\n",
    "        \n",
    "    #change to greyscale\n",
    "    frame_grayscale = cv2.cvtColor(frame, cv2.COLOR_BGR2GRAY)\n",
    "    \n",
    "    #detect faces first\n",
    "    faces = face_detector.detectMultiScale(frame_grayscale)\n",
    "    \n",
    "    \n",
    "    ##run smile detection in faces\n",
    "    for(x, y, h, w) in faces:\n",
    "        #draw a rectangle around the faces\n",
    "        cv2.rectangle(frame,(x, y),(x+w, y+h), (100, 200, 50),4)\n",
    "        \n",
    "        the_face = frame[y:y+h, x:x+w]\n",
    "        #change to grayscale\n",
    "        face_grayscale = cv2.cvtColor(the_face, cv2.COLOR_BGR2GRAY)\n",
    "        \n",
    "        smiles = smile_detector.detectMultiScale(face_grayscale, scaleFactor=1.7, minNeighbors=20)\n",
    "        \n",
    "        #for (x1, y1, h1, w1) in smiles:\n",
    "             #draw a rectangle around the smiles\n",
    "         #   cv2.rectangle(the_face,(x1, y1),(x1+w1, y1+h1), (10, 20, 250),4) \n",
    "        \n",
    "        #label this face as smiling\n",
    "        if len(smiles)>0:\n",
    "            cv2.putText(frame, 'smiling', (x,y+h+40), fontScale=3, fontFace=cv2.FONT_HERSHEY_PLAIN, color=(255,255,255))\n",
    "    \n",
    "    cv2.imshow('smile detector', frame)\n",
    "    \n",
    "    \n",
    "    #display\n",
    "    key = cv2.waitKey(1)\n",
    "    \n",
    "    # stop if q key is pressed\n",
    "    if key == 81 or key == 113:\n",
    "        break\n",
    "    \n",
    "#clean up\n",
    "webcam.release()\n",
    "cv2.destroyAllWindows()"
   ]
  },
  {
   "cell_type": "code",
   "execution_count": null,
   "id": "6a09549f",
   "metadata": {},
   "outputs": [],
   "source": []
  }
 ],
 "metadata": {
  "kernelspec": {
   "display_name": "Python 3 (ipykernel)",
   "language": "python",
   "name": "python3"
  },
  "language_info": {
   "codemirror_mode": {
    "name": "ipython",
    "version": 3
   },
   "file_extension": ".py",
   "mimetype": "text/x-python",
   "name": "python",
   "nbconvert_exporter": "python",
   "pygments_lexer": "ipython3",
   "version": "3.9.6"
  }
 },
 "nbformat": 4,
 "nbformat_minor": 5
}
